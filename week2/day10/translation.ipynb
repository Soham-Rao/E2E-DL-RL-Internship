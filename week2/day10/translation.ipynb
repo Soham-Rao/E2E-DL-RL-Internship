{
 "cells": [
  {
   "cell_type": "code",
   "execution_count": 1,
   "id": "cfd00dfd",
   "metadata": {},
   "outputs": [],
   "source": [
    "import torch\n",
    "from transformers import AutoTokenizer, AutoModelForSeq2SeqLM\n",
    "\n",
    "device = torch.device(\"cuda\" if torch.cuda.is_available() else \"cpu\")\n"
   ]
  },
  {
   "cell_type": "code",
   "execution_count": 2,
   "id": "6e60f1f4",
   "metadata": {},
   "outputs": [
    {
     "data": {
      "application/vnd.jupyter.widget-view+json": {
       "model_id": "92bdd2f2359a4ecd88b76e29a0670904",
       "version_major": 2,
       "version_minor": 0
      },
      "text/plain": [
       "pytorch_model.bin:   0%|          | 0.00/2.46G [00:00<?, ?B/s]"
      ]
     },
     "metadata": {},
     "output_type": "display_data"
    },
    {
     "data": {
      "application/vnd.jupyter.widget-view+json": {
       "model_id": "204adedeecc14c2497e32567befdd1c4",
       "version_major": 2,
       "version_minor": 0
      },
      "text/plain": [
       "generation_config.json:   0%|          | 0.00/189 [00:00<?, ?B/s]"
      ]
     },
     "metadata": {},
     "output_type": "display_data"
    }
   ],
   "source": [
    "MODEL_ID = \"facebook/nllb-200-distilled-600M\"\n",
    "\n",
    "tokenizer = AutoTokenizer.from_pretrained(MODEL_ID)\n",
    "model     = AutoModelForSeq2SeqLM.from_pretrained(MODEL_ID).to(device)\n"
   ]
  },
  {
   "cell_type": "code",
   "execution_count": 6,
   "id": "56c225c4",
   "metadata": {},
   "outputs": [],
   "source": [
    "# FLORES‑200 language codes for our 5 targets\n",
    "target_langs = {\n",
    "    \"Hindi\"   : \"hin_Deva\",\n",
    "    \"Spanish\" : \"spa_Latn\",\n",
    "    \"French\"  : \"fra_Latn\",\n",
    "    \"German\"  : \"deu_Latn\",\n",
    "    \"Chinese\" : \"zho_Hans\"   # Simplified Chinese\n",
    "}\n",
    "\n",
    "SRC_CODE = \"eng_Latn\"       # English source code\n",
    "\n",
    "def translate(text: str) -> dict:\n",
    "    tokenizer.src_lang = SRC_CODE\n",
    "    encoded = tokenizer(text, return_tensors=\"pt\").to(device)\n",
    "\n",
    "    out = {}\n",
    "    for lang, tgt_code in target_langs.items():\n",
    "        generated = model.generate(\n",
    "            **encoded,\n",
    "            forced_bos_token_id=tokenizer.convert_tokens_to_ids(tgt_code),\n",
    "            max_length=256\n",
    "        )\n",
    "        out[lang] = tokenizer.decode(generated[0], skip_special_tokens=True)\n",
    "    return out\n"
   ]
  },
  {
   "cell_type": "code",
   "execution_count": 7,
   "id": "6897da51",
   "metadata": {},
   "outputs": [
    {
     "name": "stderr",
     "output_type": "stream",
     "text": [
      "c:\\Users\\soham\\.conda\\envs\\myenv\\lib\\site-packages\\transformers\\models\\m2m_100\\modeling_m2m_100.py:552: UserWarning: 1Torch was not compiled with flash attention. (Triggered internally at C:\\actions-runner\\_work\\pytorch\\pytorch\\builder\\windows\\pytorch\\aten\\src\\ATen\\native\\transformers\\cuda\\sdp_utils.cpp:555.)\n",
      "  attn_output = torch.nn.functional.scaled_dot_product_attention(\n"
     ]
    },
    {
     "name": "stdout",
     "output_type": "stream",
     "text": [
      "   Hindi: मेरा नाम सोहम है\n",
      " Spanish: Mi nombre es Soham\n",
      "  French: Je m'appelle Soham.\n",
      "  German: Mein Name ist Soham .\n",
      " Chinese: 我叫索罕.\n"
     ]
    }
   ],
   "source": [
    "sentence = input(\"Enter an English sentence: \").strip()\n",
    "for lang, translation in translate(sentence).items():\n",
    "    print(f\"{lang:>8}: {translation}\")\n"
   ]
  }
 ],
 "metadata": {
  "kernelspec": {
   "display_name": "myenv",
   "language": "python",
   "name": "python3"
  },
  "language_info": {
   "codemirror_mode": {
    "name": "ipython",
    "version": 3
   },
   "file_extension": ".py",
   "mimetype": "text/x-python",
   "name": "python",
   "nbconvert_exporter": "python",
   "pygments_lexer": "ipython3",
   "version": "3.8.20"
  }
 },
 "nbformat": 4,
 "nbformat_minor": 5
}
